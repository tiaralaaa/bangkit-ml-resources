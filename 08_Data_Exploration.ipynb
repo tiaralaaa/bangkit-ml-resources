{
  "nbformat": 4,
  "nbformat_minor": 0,
  "metadata": {
    "colab": {
      "name": "#7-Project Data Processing.ipynb",
      "provenance": [],
      "collapsed_sections": [
        "jx_FnF6HFucc",
        "obXcnV7Ldc2M",
        "exercise-2-key-1"
      ]
    },
    "kernelspec": {
      "display_name": "Python 3",
      "name": "python3"
    }
  },
  "cells": [
    {
      "cell_type": "markdown",
      "metadata": {
        "id": "jx_FnF6HFucc"
      },
      "source": [
        "#### Copyright 2019 Google LLC."
      ]
    },
    {
      "cell_type": "code",
      "metadata": {
        "id": "cSdG7cSNFro-"
      },
      "source": [
        "# Licensed under the Apache License, Version 2.0 (the \"License\");\n",
        "# you may not use this file except in compliance with the License.\n",
        "# You may obtain a copy of the License at\n",
        "#\n",
        "# https://www.apache.org/licenses/LICENSE-2.0\n",
        "#\n",
        "# Unless required by applicable law or agreed to in writing, software\n",
        "# distributed under the License is distributed on an \"AS IS\" BASIS,\n",
        "# WITHOUT WARRANTIES OR CONDITIONS OF ANY KIND, either express or implied.\n",
        "# See the License for the specific language governing permissions and\n",
        "# limitations under the License."
      ],
      "execution_count": null,
      "outputs": []
    },
    {
      "cell_type": "markdown",
      "metadata": {
        "id": "_FdRu8E0F6EJ"
      },
      "source": [
        "# Dataset Exploration\n"
      ]
    },
    {
      "cell_type": "markdown",
      "metadata": {
        "id": "Mm5d3zEpKE00"
      },
      "source": [
        "For this project you will be given a dataset and an associated problem. Over the course of the day, you will explore the dataset and train the best model you can in order to solve the problem. At the end of the day, you will give a short presentation about your model and solution."
      ]
    },
    {
      "cell_type": "markdown",
      "metadata": {
        "id": "Nb9YD_6cWefp"
      },
      "source": [
        "### Deliverables\n",
        "\n",
        "1. A **copy of this Colab notebook** containing your code and responses to the ethical considerations below.\n",
        "1. At the end of the day, we will ask you and your group to stand in front of the class and give a brief **presentation about what you have done**."
      ]
    },
    {
      "cell_type": "markdown",
      "metadata": {
        "id": "JzEoFw-TPi7r"
      },
      "source": [
        "## Team\n",
        "\n",
        "Please enter your team members' names in the placeholders in this text area:\n",
        "\n",
        "*   *Team Member Placeholder*\n",
        "*   *Team Member Placeholder*\n",
        "*   *Team Member Placeholder*\n",
        "\n"
      ]
    },
    {
      "cell_type": "markdown",
      "metadata": {
        "id": "a0-9HPLU43Xf"
      },
      "source": [
        "# Exercises"
      ]
    },
    {
      "cell_type": "markdown",
      "metadata": {
        "id": "8rqFJ-Ch4_mU"
      },
      "source": [
        "## Exercise 1: Coding"
      ]
    },
    {
      "cell_type": "markdown",
      "metadata": {
        "id": "cr12EFb2WQym"
      },
      "source": [
        "[Kaggle](http://www.kaggle.com) hosts a [dataset containing US airline on-time statistics and delay data](https://www.kaggle.com/giovamata/airlinedelaycauses) from the [US Department of Transportation's Bureau of Transportation Statistics (BTS)](https://www.bts.gov/). In this project, we will **use flight statistics data to gain insights into US airports' and airlines' flights in 2008.**\n",
        "\n",
        "You are free to use any toolkit we've covered in class to solve the problem (e.g. Pandas, Matplotlib, Seaborn).\n",
        "\n",
        "Demonstrations of competency:\n",
        "1. Get the data into a Python object.\n",
        "1. Inspect the data for each column's data type and summary statistics.\n",
        "1. Explore the data programmatically and visually.\n",
        "1. Produce an answer and visualization, where applicable, for at least three questions from the list below, and discuss any relevant insights. Feel free to generate and answer some of your own questions.\n",
        "\n",
        "  * Which U.S. airport is the busiest airport? You can decide how you'd like to measure \"business\" (e.g., annually, monthly, daily).\n",
        "  * Of the 2008 flights that are *actually delayed*, think about:\n",
        "    * Which 10 U.S. airlines have the most delays?\n",
        "    * Which 10 U.S. airlines have the longest average delay time?\n",
        "    * Which 10 U.S. airports have the most delays?\n",
        "    * Which 10 U.S. airports have the longest average delay time?\n",
        "  * More analysis:\n",
        "    * Are there patterns on how flight delays are distributed across different hours of the day?\n",
        "    * How about across months or seasons? Can you think of any reasons for these seasonal delays?\n",
        "    * If you look at average delay time or number of delays by airport, does the data show linearity? Does any subset of the data show linearity?\n",
        "    * Add reason for delay to your delay analysis above.\n",
        "    * Examine flight frequencies, delays, time of day or year, etc. for a specific airport, airline or origin-arrival airport pair."
      ]
    },
    {
      "cell_type": "markdown",
      "metadata": {
        "id": "WgFU38b7rfbv"
      },
      "source": [
        "### Student Solution"
      ]
    },
    {
      "cell_type": "code",
      "metadata": {
        "id": "wOdOl0qqPyL-",
        "colab": {
          "base_uri": "https://localhost:8080/"
        },
        "outputId": "2caa17a1-df02-4aa7-905c-76d2f9de4030"
      },
      "source": [
        "# Use as many text and code blocks as you need to create your solution.\n",
        "# Make sure to take notes and add lots of code comments, so your instructor\n",
        "# understands what you are doing!\n",
        "\n",
        "# Get data from Kaggle\n",
        "! chmod 600 kaggle.json && (ls ~/.kaggle 2>/dev/null || mkdir ~/.kaggle) && mv kaggle.json ~/.kaggle/ && echo 'Done'\n",
        "! kaggle datasets download giovamata/airlinedelaycauses"
      ],
      "execution_count": null,
      "outputs": [
        {
          "output_type": "stream",
          "text": [
            "kaggle.json\n",
            "Done\n",
            "airlinedelaycauses.zip: Skipping, found more recently modified local copy (use --force to force download)\n"
          ],
          "name": "stdout"
        }
      ]
    },
    {
      "cell_type": "code",
      "metadata": {
        "id": "pBPCRa4MBQO6"
      },
      "source": [
        "# Import libraries\n",
        "import os\n",
        "import pandas as pd\n",
        "import zipfile"
      ],
      "execution_count": null,
      "outputs": []
    },
    {
      "cell_type": "code",
      "metadata": {
        "colab": {
          "base_uri": "https://localhost:8080/"
        },
        "id": "ku3cha34BZ-N",
        "outputId": "4ad89255-5502-4198-a5b3-38522e209b6c"
      },
      "source": [
        "# Unzip data\n",
        "with zipfile.ZipFile('airlinedelaycauses.zip') as zip_file:\n",
        "    zip_file.extractall('./')\n",
        "\n",
        "os.listdir()"
      ],
      "execution_count": null,
      "outputs": [
        {
          "output_type": "execute_result",
          "data": {
            "text/plain": [
              "['.config',\n",
              " 'airlinedelaycauses.zip',\n",
              " 'st99_d00.shp',\n",
              " 'DelayedFlights.csv',\n",
              " 'st99_d00.dbf',\n",
              " 'st99_d00.shx',\n",
              " 'sample_data']"
            ]
          },
          "metadata": {
            "tags": []
          },
          "execution_count": 7
        }
      ]
    },
    {
      "cell_type": "code",
      "metadata": {
        "colab": {
          "base_uri": "https://localhost:8080/",
          "height": 400
        },
        "id": "oC8jZj39B3rw",
        "outputId": "0de58bdd-6902-4d9f-8763-9288d095ae8b"
      },
      "source": [
        "# Look at data\n",
        "df = pd.read_csv('DelayedFlights.csv')\n",
        "\n",
        "df.sample(10)"
      ],
      "execution_count": null,
      "outputs": [
        {
          "output_type": "execute_result",
          "data": {
            "text/html": [
              "<div>\n",
              "<style scoped>\n",
              "    .dataframe tbody tr th:only-of-type {\n",
              "        vertical-align: middle;\n",
              "    }\n",
              "\n",
              "    .dataframe tbody tr th {\n",
              "        vertical-align: top;\n",
              "    }\n",
              "\n",
              "    .dataframe thead th {\n",
              "        text-align: right;\n",
              "    }\n",
              "</style>\n",
              "<table border=\"1\" class=\"dataframe\">\n",
              "  <thead>\n",
              "    <tr style=\"text-align: right;\">\n",
              "      <th></th>\n",
              "      <th>Unnamed: 0</th>\n",
              "      <th>Year</th>\n",
              "      <th>Month</th>\n",
              "      <th>DayofMonth</th>\n",
              "      <th>DayOfWeek</th>\n",
              "      <th>DepTime</th>\n",
              "      <th>CRSDepTime</th>\n",
              "      <th>ArrTime</th>\n",
              "      <th>CRSArrTime</th>\n",
              "      <th>UniqueCarrier</th>\n",
              "      <th>FlightNum</th>\n",
              "      <th>TailNum</th>\n",
              "      <th>ActualElapsedTime</th>\n",
              "      <th>CRSElapsedTime</th>\n",
              "      <th>AirTime</th>\n",
              "      <th>ArrDelay</th>\n",
              "      <th>DepDelay</th>\n",
              "      <th>Origin</th>\n",
              "      <th>Dest</th>\n",
              "      <th>Distance</th>\n",
              "      <th>TaxiIn</th>\n",
              "      <th>TaxiOut</th>\n",
              "      <th>Cancelled</th>\n",
              "      <th>CancellationCode</th>\n",
              "      <th>Diverted</th>\n",
              "      <th>CarrierDelay</th>\n",
              "      <th>WeatherDelay</th>\n",
              "      <th>NASDelay</th>\n",
              "      <th>SecurityDelay</th>\n",
              "      <th>LateAircraftDelay</th>\n",
              "    </tr>\n",
              "  </thead>\n",
              "  <tbody>\n",
              "    <tr>\n",
              "      <th>825533</th>\n",
              "      <td>2777464</td>\n",
              "      <td>2008</td>\n",
              "      <td>5</td>\n",
              "      <td>4</td>\n",
              "      <td>7</td>\n",
              "      <td>1937.0</td>\n",
              "      <td>1845</td>\n",
              "      <td>2125.0</td>\n",
              "      <td>2045</td>\n",
              "      <td>MQ</td>\n",
              "      <td>3451</td>\n",
              "      <td>N932AE</td>\n",
              "      <td>108.0</td>\n",
              "      <td>120.0</td>\n",
              "      <td>90.0</td>\n",
              "      <td>40.0</td>\n",
              "      <td>52.0</td>\n",
              "      <td>DFW</td>\n",
              "      <td>CMI</td>\n",
              "      <td>693</td>\n",
              "      <td>4.0</td>\n",
              "      <td>14.0</td>\n",
              "      <td>0</td>\n",
              "      <td>N</td>\n",
              "      <td>0</td>\n",
              "      <td>40.0</td>\n",
              "      <td>0.0</td>\n",
              "      <td>0.0</td>\n",
              "      <td>0.0</td>\n",
              "      <td>0.0</td>\n",
              "    </tr>\n",
              "    <tr>\n",
              "      <th>153</th>\n",
              "      <td>216</td>\n",
              "      <td>2008</td>\n",
              "      <td>1</td>\n",
              "      <td>3</td>\n",
              "      <td>4</td>\n",
              "      <td>1807.0</td>\n",
              "      <td>1740</td>\n",
              "      <td>2011.0</td>\n",
              "      <td>1950</td>\n",
              "      <td>WN</td>\n",
              "      <td>559</td>\n",
              "      <td>N603SW</td>\n",
              "      <td>64.0</td>\n",
              "      <td>70.0</td>\n",
              "      <td>49.0</td>\n",
              "      <td>21.0</td>\n",
              "      <td>27.0</td>\n",
              "      <td>LAS</td>\n",
              "      <td>PHX</td>\n",
              "      <td>256</td>\n",
              "      <td>5.0</td>\n",
              "      <td>10.0</td>\n",
              "      <td>0</td>\n",
              "      <td>N</td>\n",
              "      <td>0</td>\n",
              "      <td>2.0</td>\n",
              "      <td>0.0</td>\n",
              "      <td>0.0</td>\n",
              "      <td>0.0</td>\n",
              "      <td>19.0</td>\n",
              "    </tr>\n",
              "    <tr>\n",
              "      <th>802687</th>\n",
              "      <td>2668151</td>\n",
              "      <td>2008</td>\n",
              "      <td>5</td>\n",
              "      <td>19</td>\n",
              "      <td>1</td>\n",
              "      <td>1953.0</td>\n",
              "      <td>1825</td>\n",
              "      <td>2007.0</td>\n",
              "      <td>1906</td>\n",
              "      <td>US</td>\n",
              "      <td>541</td>\n",
              "      <td>N303AW</td>\n",
              "      <td>134.0</td>\n",
              "      <td>161.0</td>\n",
              "      <td>115.0</td>\n",
              "      <td>61.0</td>\n",
              "      <td>88.0</td>\n",
              "      <td>DFW</td>\n",
              "      <td>PHX</td>\n",
              "      <td>868</td>\n",
              "      <td>5.0</td>\n",
              "      <td>14.0</td>\n",
              "      <td>0</td>\n",
              "      <td>N</td>\n",
              "      <td>0</td>\n",
              "      <td>0.0</td>\n",
              "      <td>0.0</td>\n",
              "      <td>0.0</td>\n",
              "      <td>0.0</td>\n",
              "      <td>61.0</td>\n",
              "    </tr>\n",
              "    <tr>\n",
              "      <th>1886904</th>\n",
              "      <td>6871888</td>\n",
              "      <td>2008</td>\n",
              "      <td>12</td>\n",
              "      <td>20</td>\n",
              "      <td>6</td>\n",
              "      <td>1211.0</td>\n",
              "      <td>1105</td>\n",
              "      <td>1430.0</td>\n",
              "      <td>1238</td>\n",
              "      <td>NW</td>\n",
              "      <td>1527</td>\n",
              "      <td>N784NC</td>\n",
              "      <td>139.0</td>\n",
              "      <td>93.0</td>\n",
              "      <td>73.0</td>\n",
              "      <td>112.0</td>\n",
              "      <td>66.0</td>\n",
              "      <td>MSP</td>\n",
              "      <td>MCI</td>\n",
              "      <td>393</td>\n",
              "      <td>9.0</td>\n",
              "      <td>57.0</td>\n",
              "      <td>0</td>\n",
              "      <td>N</td>\n",
              "      <td>0</td>\n",
              "      <td>0.0</td>\n",
              "      <td>0.0</td>\n",
              "      <td>50.0</td>\n",
              "      <td>0.0</td>\n",
              "      <td>62.0</td>\n",
              "    </tr>\n",
              "    <tr>\n",
              "      <th>1563283</th>\n",
              "      <td>5580868</td>\n",
              "      <td>2008</td>\n",
              "      <td>10</td>\n",
              "      <td>26</td>\n",
              "      <td>7</td>\n",
              "      <td>1953.0</td>\n",
              "      <td>1924</td>\n",
              "      <td>2039.0</td>\n",
              "      <td>2019</td>\n",
              "      <td>OO</td>\n",
              "      <td>6769</td>\n",
              "      <td>N963SW</td>\n",
              "      <td>106.0</td>\n",
              "      <td>115.0</td>\n",
              "      <td>82.0</td>\n",
              "      <td>20.0</td>\n",
              "      <td>29.0</td>\n",
              "      <td>FAR</td>\n",
              "      <td>DEN</td>\n",
              "      <td>627</td>\n",
              "      <td>7.0</td>\n",
              "      <td>17.0</td>\n",
              "      <td>0</td>\n",
              "      <td>N</td>\n",
              "      <td>0</td>\n",
              "      <td>0.0</td>\n",
              "      <td>0.0</td>\n",
              "      <td>0.0</td>\n",
              "      <td>0.0</td>\n",
              "      <td>20.0</td>\n",
              "    </tr>\n",
              "    <tr>\n",
              "      <th>1107872</th>\n",
              "      <td>3686844</td>\n",
              "      <td>2008</td>\n",
              "      <td>7</td>\n",
              "      <td>27</td>\n",
              "      <td>7</td>\n",
              "      <td>2116.0</td>\n",
              "      <td>1915</td>\n",
              "      <td>2259.0</td>\n",
              "      <td>2110</td>\n",
              "      <td>WN</td>\n",
              "      <td>2241</td>\n",
              "      <td>N769SW</td>\n",
              "      <td>103.0</td>\n",
              "      <td>115.0</td>\n",
              "      <td>91.0</td>\n",
              "      <td>109.0</td>\n",
              "      <td>121.0</td>\n",
              "      <td>PHX</td>\n",
              "      <td>SMF</td>\n",
              "      <td>647</td>\n",
              "      <td>4.0</td>\n",
              "      <td>8.0</td>\n",
              "      <td>0</td>\n",
              "      <td>N</td>\n",
              "      <td>0</td>\n",
              "      <td>0.0</td>\n",
              "      <td>5.0</td>\n",
              "      <td>0.0</td>\n",
              "      <td>0.0</td>\n",
              "      <td>104.0</td>\n",
              "    </tr>\n",
              "    <tr>\n",
              "      <th>172662</th>\n",
              "      <td>562889</td>\n",
              "      <td>2008</td>\n",
              "      <td>1</td>\n",
              "      <td>3</td>\n",
              "      <td>4</td>\n",
              "      <td>1938.0</td>\n",
              "      <td>1915</td>\n",
              "      <td>2100.0</td>\n",
              "      <td>2044</td>\n",
              "      <td>CO</td>\n",
              "      <td>397</td>\n",
              "      <td>N37298</td>\n",
              "      <td>202.0</td>\n",
              "      <td>209.0</td>\n",
              "      <td>174.0</td>\n",
              "      <td>16.0</td>\n",
              "      <td>23.0</td>\n",
              "      <td>IAH</td>\n",
              "      <td>LAS</td>\n",
              "      <td>1222</td>\n",
              "      <td>7.0</td>\n",
              "      <td>21.0</td>\n",
              "      <td>0</td>\n",
              "      <td>N</td>\n",
              "      <td>0</td>\n",
              "      <td>8.0</td>\n",
              "      <td>0.0</td>\n",
              "      <td>0.0</td>\n",
              "      <td>0.0</td>\n",
              "      <td>8.0</td>\n",
              "    </tr>\n",
              "    <tr>\n",
              "      <th>32871</th>\n",
              "      <td>101456</td>\n",
              "      <td>2008</td>\n",
              "      <td>1</td>\n",
              "      <td>21</td>\n",
              "      <td>1</td>\n",
              "      <td>1809.0</td>\n",
              "      <td>1700</td>\n",
              "      <td>2041.0</td>\n",
              "      <td>1943</td>\n",
              "      <td>XE</td>\n",
              "      <td>7779</td>\n",
              "      <td>N12172</td>\n",
              "      <td>152.0</td>\n",
              "      <td>163.0</td>\n",
              "      <td>131.0</td>\n",
              "      <td>58.0</td>\n",
              "      <td>69.0</td>\n",
              "      <td>SEA</td>\n",
              "      <td>LAX</td>\n",
              "      <td>954</td>\n",
              "      <td>11.0</td>\n",
              "      <td>10.0</td>\n",
              "      <td>0</td>\n",
              "      <td>N</td>\n",
              "      <td>0</td>\n",
              "      <td>58.0</td>\n",
              "      <td>0.0</td>\n",
              "      <td>0.0</td>\n",
              "      <td>0.0</td>\n",
              "      <td>0.0</td>\n",
              "    </tr>\n",
              "    <tr>\n",
              "      <th>1769823</th>\n",
              "      <td>6547711</td>\n",
              "      <td>2008</td>\n",
              "      <td>12</td>\n",
              "      <td>29</td>\n",
              "      <td>1</td>\n",
              "      <td>1737.0</td>\n",
              "      <td>1640</td>\n",
              "      <td>1948.0</td>\n",
              "      <td>1905</td>\n",
              "      <td>WN</td>\n",
              "      <td>2183</td>\n",
              "      <td>N373SW</td>\n",
              "      <td>71.0</td>\n",
              "      <td>85.0</td>\n",
              "      <td>53.0</td>\n",
              "      <td>43.0</td>\n",
              "      <td>57.0</td>\n",
              "      <td>LAS</td>\n",
              "      <td>SLC</td>\n",
              "      <td>368</td>\n",
              "      <td>7.0</td>\n",
              "      <td>11.0</td>\n",
              "      <td>0</td>\n",
              "      <td>N</td>\n",
              "      <td>0</td>\n",
              "      <td>7.0</td>\n",
              "      <td>0.0</td>\n",
              "      <td>0.0</td>\n",
              "      <td>0.0</td>\n",
              "      <td>36.0</td>\n",
              "    </tr>\n",
              "    <tr>\n",
              "      <th>1263590</th>\n",
              "      <td>4224062</td>\n",
              "      <td>2008</td>\n",
              "      <td>7</td>\n",
              "      <td>13</td>\n",
              "      <td>7</td>\n",
              "      <td>1233.0</td>\n",
              "      <td>1145</td>\n",
              "      <td>1636.0</td>\n",
              "      <td>1312</td>\n",
              "      <td>DL</td>\n",
              "      <td>858</td>\n",
              "      <td>N627DL</td>\n",
              "      <td>423.0</td>\n",
              "      <td>267.0</td>\n",
              "      <td>261.0</td>\n",
              "      <td>204.0</td>\n",
              "      <td>48.0</td>\n",
              "      <td>ATL</td>\n",
              "      <td>SNA</td>\n",
              "      <td>1919</td>\n",
              "      <td>6.0</td>\n",
              "      <td>156.0</td>\n",
              "      <td>0</td>\n",
              "      <td>N</td>\n",
              "      <td>0</td>\n",
              "      <td>0.0</td>\n",
              "      <td>48.0</td>\n",
              "      <td>156.0</td>\n",
              "      <td>0.0</td>\n",
              "      <td>0.0</td>\n",
              "    </tr>\n",
              "  </tbody>\n",
              "</table>\n",
              "</div>"
            ],
            "text/plain": [
              "         Unnamed: 0  Year  Month  ...  NASDelay  SecurityDelay  LateAircraftDelay\n",
              "825533      2777464  2008      5  ...       0.0            0.0                0.0\n",
              "153             216  2008      1  ...       0.0            0.0               19.0\n",
              "802687      2668151  2008      5  ...       0.0            0.0               61.0\n",
              "1886904     6871888  2008     12  ...      50.0            0.0               62.0\n",
              "1563283     5580868  2008     10  ...       0.0            0.0               20.0\n",
              "1107872     3686844  2008      7  ...       0.0            0.0              104.0\n",
              "172662       562889  2008      1  ...       0.0            0.0                8.0\n",
              "32871        101456  2008      1  ...       0.0            0.0                0.0\n",
              "1769823     6547711  2008     12  ...       0.0            0.0               36.0\n",
              "1263590     4224062  2008      7  ...     156.0            0.0                0.0\n",
              "\n",
              "[10 rows x 30 columns]"
            ]
          },
          "metadata": {
            "tags": []
          },
          "execution_count": 24
        }
      ]
    },
    {
      "cell_type": "code",
      "metadata": {
        "colab": {
          "base_uri": "https://localhost:8080/"
        },
        "id": "DGtFfmwXFtib",
        "outputId": "e4b2e5c4-bb87-4741-f246-5227e7920dab"
      },
      "source": [
        "df.dtypes"
      ],
      "execution_count": null,
      "outputs": [
        {
          "output_type": "execute_result",
          "data": {
            "text/plain": [
              "Unnamed: 0             int64\n",
              "Year                   int64\n",
              "Month                  int64\n",
              "DayofMonth             int64\n",
              "DayOfWeek              int64\n",
              "DepTime              float64\n",
              "CRSDepTime             int64\n",
              "ArrTime              float64\n",
              "CRSArrTime             int64\n",
              "UniqueCarrier         object\n",
              "FlightNum              int64\n",
              "TailNum               object\n",
              "ActualElapsedTime    float64\n",
              "CRSElapsedTime       float64\n",
              "AirTime              float64\n",
              "ArrDelay             float64\n",
              "DepDelay             float64\n",
              "Origin                object\n",
              "Dest                  object\n",
              "Distance               int64\n",
              "TaxiIn               float64\n",
              "TaxiOut              float64\n",
              "Cancelled              int64\n",
              "CancellationCode      object\n",
              "Diverted               int64\n",
              "CarrierDelay         float64\n",
              "WeatherDelay         float64\n",
              "NASDelay             float64\n",
              "SecurityDelay        float64\n",
              "LateAircraftDelay    float64\n",
              "dtype: object"
            ]
          },
          "metadata": {
            "tags": []
          },
          "execution_count": 19
        }
      ]
    },
    {
      "cell_type": "code",
      "metadata": {
        "colab": {
          "base_uri": "https://localhost:8080/",
          "height": 261
        },
        "id": "D4fCcbpJCZuR",
        "outputId": "a5737457-1ecd-4fe6-85e4-de08d7270422"
      },
      "source": [
        "# Clean the dataframe\n",
        "if 'Unnamed: 0' in df.columns:\n",
        "    df.drop(columns='Unnamed: 0', inplace=True)\n",
        "\n",
        "df.columns = ['Year',\n",
        "              'Month',\n",
        "              'Day of Month',\n",
        "              'Day of Week',\n",
        "              'Dep Time',\n",
        "              'CRS Dep Time',\n",
        "              'Arr Time',\n",
        "              'CRS Arr Time',\n",
        "              'Unique Carrier',\n",
        "              'Flight Num',\n",
        "              'Tail Num',\n",
        "              'Actual Elapsed Time',\n",
        "              'CSR Elapsed Time',\n",
        "              'Air Time',\n",
        "              'Arr Delay',\n",
        "              'Dep Delay',\n",
        "              'Origin',\n",
        "              'Dest',\n",
        "              'Distance',\n",
        "              'Taxi In',\n",
        "              'Taxi Out',\n",
        "              'Cancelled',\n",
        "              'Cancellation Code',\n",
        "              'Diverted',\n",
        "              'Carrier Delay',\n",
        "              'Weather Delay',\n",
        "              'NAS Delay',\n",
        "              'Security Delay',\n",
        "              'Late Aircraft Delay'\n",
        "]\n",
        "df.sample(5)"
      ],
      "execution_count": null,
      "outputs": [
        {
          "output_type": "execute_result",
          "data": {
            "text/html": [
              "<div>\n",
              "<style scoped>\n",
              "    .dataframe tbody tr th:only-of-type {\n",
              "        vertical-align: middle;\n",
              "    }\n",
              "\n",
              "    .dataframe tbody tr th {\n",
              "        vertical-align: top;\n",
              "    }\n",
              "\n",
              "    .dataframe thead th {\n",
              "        text-align: right;\n",
              "    }\n",
              "</style>\n",
              "<table border=\"1\" class=\"dataframe\">\n",
              "  <thead>\n",
              "    <tr style=\"text-align: right;\">\n",
              "      <th></th>\n",
              "      <th>Year</th>\n",
              "      <th>Month</th>\n",
              "      <th>Day of Month</th>\n",
              "      <th>Day of Week</th>\n",
              "      <th>Dep Time</th>\n",
              "      <th>CRS Dep Time</th>\n",
              "      <th>Arr Time</th>\n",
              "      <th>CRS Arr Time</th>\n",
              "      <th>Unique Carrier</th>\n",
              "      <th>Flight Num</th>\n",
              "      <th>Tail Num</th>\n",
              "      <th>Actual Elapsed Time</th>\n",
              "      <th>CSR Elapsed Time</th>\n",
              "      <th>Air Time</th>\n",
              "      <th>Arr Delay</th>\n",
              "      <th>Dep Delay</th>\n",
              "      <th>Origin</th>\n",
              "      <th>Dest</th>\n",
              "      <th>Distance</th>\n",
              "      <th>Taxi In</th>\n",
              "      <th>Taxi Out</th>\n",
              "      <th>Cancelled</th>\n",
              "      <th>Cancellation Code</th>\n",
              "      <th>Diverted</th>\n",
              "      <th>Carrier Delay</th>\n",
              "      <th>Weather Delay</th>\n",
              "      <th>NAS Delay</th>\n",
              "      <th>Security Delay</th>\n",
              "      <th>Late Aircraft Delay</th>\n",
              "    </tr>\n",
              "  </thead>\n",
              "  <tbody>\n",
              "    <tr>\n",
              "      <th>109523</th>\n",
              "      <td>2008</td>\n",
              "      <td>1</td>\n",
              "      <td>11</td>\n",
              "      <td>5</td>\n",
              "      <td>1703.0</td>\n",
              "      <td>1645</td>\n",
              "      <td>1750.0</td>\n",
              "      <td>1741</td>\n",
              "      <td>F9</td>\n",
              "      <td>787</td>\n",
              "      <td>N949FR</td>\n",
              "      <td>107.0</td>\n",
              "      <td>116.0</td>\n",
              "      <td>89.0</td>\n",
              "      <td>9.0</td>\n",
              "      <td>18.0</td>\n",
              "      <td>DEN</td>\n",
              "      <td>LAS</td>\n",
              "      <td>629</td>\n",
              "      <td>9.0</td>\n",
              "      <td>9.0</td>\n",
              "      <td>0</td>\n",
              "      <td>N</td>\n",
              "      <td>0</td>\n",
              "      <td>NaN</td>\n",
              "      <td>NaN</td>\n",
              "      <td>NaN</td>\n",
              "      <td>NaN</td>\n",
              "      <td>NaN</td>\n",
              "    </tr>\n",
              "    <tr>\n",
              "      <th>38000</th>\n",
              "      <td>2008</td>\n",
              "      <td>1</td>\n",
              "      <td>9</td>\n",
              "      <td>3</td>\n",
              "      <td>1913.0</td>\n",
              "      <td>1852</td>\n",
              "      <td>2030.0</td>\n",
              "      <td>2020</td>\n",
              "      <td>XE</td>\n",
              "      <td>2028</td>\n",
              "      <td>N11106</td>\n",
              "      <td>77.0</td>\n",
              "      <td>88.0</td>\n",
              "      <td>62.0</td>\n",
              "      <td>10.0</td>\n",
              "      <td>21.0</td>\n",
              "      <td>OKC</td>\n",
              "      <td>IAH</td>\n",
              "      <td>395</td>\n",
              "      <td>6.0</td>\n",
              "      <td>9.0</td>\n",
              "      <td>0</td>\n",
              "      <td>N</td>\n",
              "      <td>0</td>\n",
              "      <td>NaN</td>\n",
              "      <td>NaN</td>\n",
              "      <td>NaN</td>\n",
              "      <td>NaN</td>\n",
              "      <td>NaN</td>\n",
              "    </tr>\n",
              "    <tr>\n",
              "      <th>116404</th>\n",
              "      <td>2008</td>\n",
              "      <td>1</td>\n",
              "      <td>27</td>\n",
              "      <td>7</td>\n",
              "      <td>1658.0</td>\n",
              "      <td>1630</td>\n",
              "      <td>1830.0</td>\n",
              "      <td>1755</td>\n",
              "      <td>MQ</td>\n",
              "      <td>3167</td>\n",
              "      <td>N848AE</td>\n",
              "      <td>92.0</td>\n",
              "      <td>85.0</td>\n",
              "      <td>67.0</td>\n",
              "      <td>35.0</td>\n",
              "      <td>28.0</td>\n",
              "      <td>SFO</td>\n",
              "      <td>SNA</td>\n",
              "      <td>372</td>\n",
              "      <td>6.0</td>\n",
              "      <td>19.0</td>\n",
              "      <td>0</td>\n",
              "      <td>N</td>\n",
              "      <td>0</td>\n",
              "      <td>0.0</td>\n",
              "      <td>0.0</td>\n",
              "      <td>7.0</td>\n",
              "      <td>0.0</td>\n",
              "      <td>28.0</td>\n",
              "    </tr>\n",
              "    <tr>\n",
              "      <th>529850</th>\n",
              "      <td>2008</td>\n",
              "      <td>3</td>\n",
              "      <td>21</td>\n",
              "      <td>5</td>\n",
              "      <td>1632.0</td>\n",
              "      <td>1325</td>\n",
              "      <td>2054.0</td>\n",
              "      <td>1725</td>\n",
              "      <td>AA</td>\n",
              "      <td>350</td>\n",
              "      <td>N460AA</td>\n",
              "      <td>202.0</td>\n",
              "      <td>180.0</td>\n",
              "      <td>146.0</td>\n",
              "      <td>209.0</td>\n",
              "      <td>187.0</td>\n",
              "      <td>ELP</td>\n",
              "      <td>ORD</td>\n",
              "      <td>1236</td>\n",
              "      <td>19.0</td>\n",
              "      <td>37.0</td>\n",
              "      <td>0</td>\n",
              "      <td>N</td>\n",
              "      <td>0</td>\n",
              "      <td>0.0</td>\n",
              "      <td>0.0</td>\n",
              "      <td>209.0</td>\n",
              "      <td>0.0</td>\n",
              "      <td>0.0</td>\n",
              "    </tr>\n",
              "    <tr>\n",
              "      <th>1645586</th>\n",
              "      <td>2008</td>\n",
              "      <td>11</td>\n",
              "      <td>30</td>\n",
              "      <td>7</td>\n",
              "      <td>1304.0</td>\n",
              "      <td>1020</td>\n",
              "      <td>1506.0</td>\n",
              "      <td>1235</td>\n",
              "      <td>WN</td>\n",
              "      <td>427</td>\n",
              "      <td>N461WN</td>\n",
              "      <td>182.0</td>\n",
              "      <td>195.0</td>\n",
              "      <td>157.0</td>\n",
              "      <td>151.0</td>\n",
              "      <td>164.0</td>\n",
              "      <td>FLL</td>\n",
              "      <td>MDW</td>\n",
              "      <td>1166</td>\n",
              "      <td>4.0</td>\n",
              "      <td>21.0</td>\n",
              "      <td>0</td>\n",
              "      <td>N</td>\n",
              "      <td>0</td>\n",
              "      <td>6.0</td>\n",
              "      <td>0.0</td>\n",
              "      <td>0.0</td>\n",
              "      <td>0.0</td>\n",
              "      <td>145.0</td>\n",
              "    </tr>\n",
              "  </tbody>\n",
              "</table>\n",
              "</div>"
            ],
            "text/plain": [
              "         Year  Month  ...  Security Delay  Late Aircraft Delay\n",
              "109523   2008      1  ...             NaN                  NaN\n",
              "38000    2008      1  ...             NaN                  NaN\n",
              "116404   2008      1  ...             0.0                 28.0\n",
              "529850   2008      3  ...             0.0                  0.0\n",
              "1645586  2008     11  ...             0.0                145.0\n",
              "\n",
              "[5 rows x 29 columns]"
            ]
          },
          "metadata": {
            "tags": []
          },
          "execution_count": 26
        }
      ]
    },
    {
      "cell_type": "code",
      "metadata": {
        "id": "s-9c22TxHVY7"
      },
      "source": [
        "def check_null(series):\n",
        "    \"\"\"Check series if there is null value\"\"\"\n",
        "    return series.isnull().any()\n",
        "\n",
        "def check_unique_size(series):\n",
        "    \"\"\"Return series unique size\"\"\"\n",
        "    return series.unique().size\n",
        "\n",
        "def check_space_value(series):\n",
        "    \"\"\"Return series that have 'space' value\"\"\"\n",
        "    return series.apply(lambda x: x.strip()).str.len() == 0"
      ],
      "execution_count": null,
      "outputs": []
    },
    {
      "cell_type": "code",
      "metadata": {
        "colab": {
          "base_uri": "https://localhost:8080/"
        },
        "id": "ZpO9XG7PI36u",
        "outputId": "2b408e4c-2583-4e3e-b274-8b592a301cda"
      },
      "source": [
        "for column in df.columns:\n",
        "    if check_null(df[column]):\n",
        "        print(\"Check Null\")\n",
        "        print(\"Column [{}]: {}\\n\".format(column, check_null(df[column])))"
      ],
      "execution_count": null,
      "outputs": [
        {
          "output_type": "stream",
          "text": [
            "Check Null\n",
            "Column [Arr Time]: True\n",
            "\n",
            "Check Null\n",
            "Column [Tail Num]: True\n",
            "\n",
            "Check Null\n",
            "Column [Actual Elapsed Time]: True\n",
            "\n",
            "Check Null\n",
            "Column [CSR Elapsed Time]: True\n",
            "\n",
            "Check Null\n",
            "Column [Air Time]: True\n",
            "\n",
            "Check Null\n",
            "Column [Arr Delay]: True\n",
            "\n",
            "Check Null\n",
            "Column [Taxi In]: True\n",
            "\n",
            "Check Null\n",
            "Column [Taxi Out]: True\n",
            "\n",
            "Check Null\n",
            "Column [Carrier Delay]: True\n",
            "\n",
            "Check Null\n",
            "Column [Weather Delay]: True\n",
            "\n",
            "Check Null\n",
            "Column [NAS Delay]: True\n",
            "\n",
            "Check Null\n",
            "Column [Security Delay]: True\n",
            "\n",
            "Check Null\n",
            "Column [Late Aircraft Delay]: True\n",
            "\n"
          ],
          "name": "stdout"
        }
      ]
    },
    {
      "cell_type": "markdown",
      "metadata": {
        "id": "2IY331QgBEm5"
      },
      "source": [
        "## Exercise 2: Ethical Implications"
      ]
    },
    {
      "cell_type": "markdown",
      "metadata": {
        "id": "uK8XzfVHLi1K"
      },
      "source": [
        "Even the most basic of data manipulations has the potential to affect segments of the population in different ways. It is important to consider how your code might positively and negatively affect different types of users.\n",
        "\n",
        "In this section of the project, you will reflect on the ethical implications of your analysis."
      ]
    },
    {
      "cell_type": "markdown",
      "metadata": {
        "id": "BqyxriWE53Du"
      },
      "source": [
        "### Student Solution"
      ]
    },
    {
      "cell_type": "markdown",
      "metadata": {
        "id": "_U3L0F9FLmwa"
      },
      "source": [
        "**Positive Impact**\n",
        "\n",
        "Your analysis is trying to solve a problem. Think about who will benefit if the problem is solved, and write a brief narrative about how the model will help."
      ]
    },
    {
      "cell_type": "markdown",
      "metadata": {
        "id": "g582VerYL0so"
      },
      "source": [
        "*\\[Hypothetical entities\\] will benefit because...*"
      ]
    },
    {
      "cell_type": "markdown",
      "metadata": {
        "id": "ALr018eQMuUw"
      },
      "source": [
        "**Negative Impact**\n",
        "\n",
        "Solutions usually don't have a universal benefit. Think about who might be negatively impacted by your analysis. This person or persons might not be directly considered in the analysis, but they might be impacted indirectly."
      ]
    },
    {
      "cell_type": "markdown",
      "metadata": {
        "id": "We8_W4WtNDLw"
      },
      "source": [
        "*\\[Hypothetical entity\\] will be negatively impacted because...*"
      ]
    },
    {
      "cell_type": "markdown",
      "metadata": {
        "id": "07J-8ljpL85I"
      },
      "source": [
        "**Bias**\n",
        "\n",
        "Data analysis can be biased for many reasons. The bias can come from the data itself (e.g. sampling, data collection methods, available sources), and from the interpretation of the analysis outcome.\n",
        "\n",
        "Think of at least two ways that bias might have been introduced to your analysis and explain them below."
      ]
    },
    {
      "cell_type": "markdown",
      "metadata": {
        "id": "Jg_PSw3NMyFX"
      },
      "source": [
        "*One source of bias in the analysis could be...*\n",
        "\n",
        "*Another source of bias in the analysis could be...*"
      ]
    },
    {
      "cell_type": "markdown",
      "metadata": {
        "id": "7j9AWdJLMTJI"
      },
      "source": [
        "**Changing the Dataset to Mitigate Bias**\n",
        "\n",
        "The most common way that an analysis is biased is when the dataset itself is biased. Look back at the input data that you used for your analysis. Think about how you might change something about the data to reduce bias in your model.\n",
        "\n",
        "What changes could you make to make your dataset less biased? Consider the data that you have, how and where that data was collected, and what other sources of data might be used to reduce bias.\n",
        "\n",
        "Write a summary of the changes that could be made to your input data."
      ]
    },
    {
      "cell_type": "markdown",
      "metadata": {
        "id": "yzzfrQ-xNZo5"
      },
      "source": [
        "*Since the data has potential bias X, we can adjust...*"
      ]
    },
    {
      "cell_type": "markdown",
      "metadata": {
        "id": "ePs6hpLiMNSx"
      },
      "source": [
        "**Changing the Analysis Questions to Mitigate Bias**\n",
        "\n",
        "Are there any ways to reduce bias by changing the analysis itself? This could include modifying the choice of questions you ask, the approach you take to answer the questions, etc.\n",
        "\n",
        "Write a brief summary of any changes that you could make to help reduce bias in your analysis."
      ]
    },
    {
      "cell_type": "markdown",
      "metadata": {
        "id": "bZ3PS8bRNRCv"
      },
      "source": [
        "*Since the analysis has potential bias X, we can adjust...*"
      ]
    },
    {
      "cell_type": "markdown",
      "metadata": {
        "id": "YYY7lk55MgdX"
      },
      "source": [
        "**Mitigating Bias Downstream**\n",
        "\n",
        "While analysis can point to suggestions, it is people who make decisions based on them. What processes and/or rules should be in place for people and systems interpreting and acting on the results of your analysis to reduce the bias? Describe these below."
      ]
    },
    {
      "cell_type": "markdown",
      "metadata": {
        "id": "Mp3TkmalNcR-"
      },
      "source": [
        "*Since the analysis has potential bias X, we can implement processes...*"
      ]
    }
  ]
}